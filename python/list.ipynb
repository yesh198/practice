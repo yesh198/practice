{
 "cells": [
  {
   "cell_type": "markdown",
   "metadata": {},
   "source": []
  },
  {
   "cell_type": "code",
   "execution_count": null,
   "metadata": {},
   "outputs": [],
   "source": [
    "'''\n",
    "Question: Create a new list with the squares of each element in the original list.\n",
    "Input : Take list input from user\n",
    "Output : Square of elements in the list \n",
    "'''\n",
    "\n"
   ]
  },
  {
   "cell_type": "code",
   "execution_count": null,
   "metadata": {},
   "outputs": [],
   "source": [
    "'''\n",
    "Question: Create a new list with difference of each element in two lists.\n",
    "Input : Take two lists as input from user\n",
    "Output : Single list containing difference of each element in of both lists\n",
    "Example : \n",
    "list1 = [5,10,15]\n",
    "list2 = [1,2,3]\n",
    "Output : [4,8,12]\n",
    "'''"
   ]
  },
  {
   "cell_type": "code",
   "execution_count": null,
   "metadata": {},
   "outputs": [],
   "source": [
    "'''\n",
    "Question: Count the number of odd and even numbers in a list.\n",
    "Input : Take  list as input from user\n",
    "Output : Return odd numbers count and even numbers count\n",
    "'''"
   ]
  },
  {
   "cell_type": "code",
   "execution_count": null,
   "metadata": {},
   "outputs": [],
   "source": [
    "'''\n",
    "Question: Convert lists of lists into a single list.\n",
    "Input : [[100, 200],[300, 400],[500, 600],[700, 800]]\n",
    "Output : [100,200,300,400,500,600,700,800]\n",
    "'''"
   ]
  },
  {
   "cell_type": "code",
   "execution_count": null,
   "metadata": {},
   "outputs": [],
   "source": [
    "'''\n",
    "Question: Convert lists of lists into a single list.\n",
    "Input : [\" Mike \", \"  \", \" Emma\", \"Kelly \", \" Brad  \"]\n",
    "Output : [\"Mike\",\"\",\"Emma\",\"Kelly\",\"Brad\"]\n",
    "'''\n"
   ]
  }
 ],
 "metadata": {
  "language_info": {
   "name": "python"
  }
 },
 "nbformat": 4,
 "nbformat_minor": 2
}
