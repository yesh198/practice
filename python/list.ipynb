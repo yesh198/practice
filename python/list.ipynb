{
 "cells": [
  {
   "cell_type": "markdown",
   "metadata": {},
   "source": []
  },
  {
   "cell_type": "code",
   "execution_count": 1,
   "metadata": {},
   "outputs": [
    {
     "name": "stdout",
     "output_type": "stream",
     "text": [
      "28\n"
     ]
    }
   ],
   "source": [
    "'''\n",
    "Question : 1 \n",
    "Write a function to return sum of elements present inside a list \n",
    "Sample Input : [2,10,16]\n",
    "Output : 28\n",
    "'''\n",
    "\n",
    "\n",
    "def sum_of_list(numbers):\n",
    "    return sum(numbers)\n",
    "\n",
    "numbers=[2,10,16]\n",
    "result=sum_of_list(numbers)\n",
    "print(result)\n",
    "\n"
   ]
  },
  {
   "cell_type": "code",
   "execution_count": 2,
   "metadata": {},
   "outputs": [
    {
     "name": "stdout",
     "output_type": "stream",
     "text": [
      "[1, 2, 7, 9, 10, 16]\n"
     ]
    }
   ],
   "source": [
    "'''\n",
    "Question : 2\n",
    "Write a function to combine two list \n",
    "Sample Inputs : \n",
    "LIST1 : [2,10,16]\n",
    "LIST2 : [1,7,9]\n",
    "Output : [1,2,7,9,10,16]\n",
    "\n",
    "'''\n",
    "def combined_lists(list1,list2):\n",
    "    combined=list1+list2\n",
    "    return sorted(combined)\n",
    "\n",
    "list1=[2,10,16]\n",
    "list2=[1,7,9]\n",
    "result=combined_lists(list1,list2)\n",
    "print(result)\n",
    "\n"
   ]
  },
  {
   "cell_type": "code",
   "execution_count": 9,
   "metadata": {},
   "outputs": [
    {
     "name": "stdout",
     "output_type": "stream",
     "text": [
      "[5, 3, 4, 5]\n"
     ]
    }
   ],
   "source": [
    "'''\n",
    "Question : 3\n",
    "Write a function to return count of each element in another list\n",
    "Sample Inputs : \n",
    "Input : ['hello', 'how' ,'when' ,'while']\n",
    "Output : [5,3,4,5]\n",
    "'''\n",
    "\n",
    "def count_of_elements(words):\n",
    "    new_list=[]\n",
    "    for i in words:\n",
    "         new_list.append(len(i))\n",
    "    return new_list\n",
    "\n",
    "words=['hello','how','when','while']\n",
    "result=count_of_elements(words)\n",
    "print(result)\n",
    "\n",
    "\n"
   ]
  },
  {
   "cell_type": "code",
   "execution_count": 10,
   "metadata": {},
   "outputs": [
    {
     "name": "stdout",
     "output_type": "stream",
     "text": [
      "[[6, 10], [1, 5], [2, 5], [2, 4]]\n"
     ]
    }
   ],
   "source": [
    "'''\n",
    "Question : 4\n",
    "Write a function to return sorted list based on the descending order of the second element present in the sub list\n",
    " and ascending order of first element in the sub list \n",
    "Sample Inputs : \n",
    "Input : [[2,4],[1,5],[2,5],[6,10]]\n",
    "Output : [[6,10],[1,5],[2,5],[2,4]]\n",
    "'''\n",
    " \n",
    "def custom_sorted_list(input_list):\n",
    "    return sorted(input_list,key = lambda x: (-x[1] ,x[0]))\n",
    "    \n",
    "input_list=[[2,4],[1,5],[2,5],[6,10]]\n",
    "result=custom_sorted_list(input_list)\n",
    "print(result)"
   ]
  },
  {
   "cell_type": "code",
   "execution_count": 12,
   "metadata": {},
   "outputs": [
    {
     "name": "stdout",
     "output_type": "stream",
     "text": [
      "[1, 4, 5]\n"
     ]
    }
   ],
   "source": [
    "'''\n",
    "Question : 5\n",
    "Write a function to delete element from the list if the element are present in other list \n",
    "Sample Inputs : \n",
    "Input1 : [1,2,3,4,5]\n",
    "Input2 : [2,3]\n",
    "Output : [1,4,5]\n",
    "'''\n",
    "def delete_elements(Input1,Input2):\n",
    "    result=[]\n",
    "    for i in Input1:\n",
    "        if i not in Input2:\n",
    "            result.append(i)\n",
    "    return result\n",
    "\n",
    "Input1=[1,2,3,4,5]\n",
    "Input2=[2,3]       \n",
    "final_result=delete_elements(Input1,Input2)\n",
    "print(final_result)"
   ]
  },
  {
   "cell_type": "code",
   "execution_count": 19,
   "metadata": {},
   "outputs": [
    {
     "name": "stdout",
     "output_type": "stream",
     "text": [
      "[4, 25, 49]\n"
     ]
    }
   ],
   "source": [
    "'''\n",
    "Question : 6\n",
    "Create a new list with the squares of each element in the original list.\n",
    "Input : Take list input from user\n",
    "Output : Square of elements in the list \n",
    "'''\n",
    "\n",
    "def square_of_numbers(numbers):\n",
    "    result=[]\n",
    "    for number in numbers:\n",
    "        result.append(number ** 2)\n",
    "    return result\n",
    "\n",
    "numbers=[2,5,7]\n",
    "print(square_of_numbers(numbers))\n",
    "\n",
    "\n",
    "\n"
   ]
  },
  {
   "cell_type": "code",
   "execution_count": 24,
   "metadata": {},
   "outputs": [
    {
     "name": "stdout",
     "output_type": "stream",
     "text": [
      "[4, 8, 12]\n"
     ]
    }
   ],
   "source": [
    "'''\n",
    "Question : 7\n",
    "Create a new list with difference of each element in two lists.\n",
    "Input : Take two lists as input from user\n",
    "Output : Single list containing difference of each element in of both lists\n",
    "Example : \n",
    "list1 = [5,10,15]\n",
    "list2 = [1,2,3]\n",
    "Output : [4,8,12]\n",
    "'''\n",
    "\n",
    "def customized_list(input1,input2):\n",
    "    result=[]\n",
    "    for i in range(len(input1)):\n",
    "        result.append(input1[i]-input2[i]) \n",
    "    return result\n",
    "input1=[5,10,15]\n",
    "input2=[1,2,3]\n",
    "print(customized_list(input1,input2))           "
   ]
  },
  {
   "cell_type": "code",
   "execution_count": 30,
   "metadata": {},
   "outputs": [
    {
     "name": "stdout",
     "output_type": "stream",
     "text": [
      "(2, 3)\n"
     ]
    }
   ],
   "source": [
    "'''\n",
    "Question : 8\n",
    "Count the number of odd and even numbers in a list.\n",
    "Input : Take  list as input from user\n",
    "Output : Return odd numbers count and even numbers count\n",
    "'''\n",
    "\n",
    "def even_and_odd(numbers):\n",
    "    even_count=0\n",
    "    odd_count=0\n",
    "    for i in numbers:\n",
    "        if (i%2==0):\n",
    "            even_count +=1\n",
    "        else:\n",
    "            odd_count +=1\n",
    "    return even_count, odd_count\n",
    "\n",
    "numbers=[2,3,6,3,9]\n",
    "print(even_and_odd(numbers))            "
   ]
  },
  {
   "cell_type": "code",
   "execution_count": 33,
   "metadata": {},
   "outputs": [
    {
     "name": "stdout",
     "output_type": "stream",
     "text": [
      "[100, 200, 300, 400, 500, 600, 700, 800]\n"
     ]
    }
   ],
   "source": [
    "'''\n",
    "Question : 9\n",
    "Convert lists of lists into a single list.\n",
    "Input : [[100, 200],[300, 400],[500, 600],[700, 800]]\n",
    "Output : [100,200,300,400,500,600,700,800]\n",
    "'''\n",
    "\n",
    "def customed_list(numbers):\n",
    "    result=[]\n",
    "    for number in numbers:\n",
    "        result.extend(number)\n",
    "    return result\n",
    "\n",
    "numbers= [[100, 200],[300, 400],[500, 600],[700, 800]]\n",
    "print(customed_list(numbers))"
   ]
  },
  {
   "cell_type": "code",
   "execution_count": 37,
   "metadata": {},
   "outputs": [
    {
     "name": "stdout",
     "output_type": "stream",
     "text": [
      "['Mike', '', 'Emma', 'Kelly', 'Brad']\n"
     ]
    }
   ],
   "source": [
    "'''\n",
    "Question : 10\n",
    "Convert lists of lists into a single list.\n",
    "Input : [\" Mike \", \"  \", \" Emma\", \"Kelly \", \" Brad  \"]\n",
    "Output : [\"Mike\",\"\",\"Emma\",\"Kelly\",\"Brad\"]\n",
    "'''\n",
    "\n",
    "\n",
    "def cust_list(elements):\n",
    "    result=[]\n",
    "    for element in elements:\n",
    "        result.append(element.strip()) \n",
    "    return result\n",
    "\n",
    "elements=[\" Mike \", \"  \", \" Emma\", \"Kelly \", \" Brad  \"]\n",
    "print(cust_list(elements))"
   ]
  },
  {
   "cell_type": "code",
   "execution_count": null,
   "metadata": {},
   "outputs": [],
   "source": []
  }
 ],
 "metadata": {
  "kernelspec": {
   "display_name": "Python 3",
   "language": "python",
   "name": "python3"
  },
  "language_info": {
   "codemirror_mode": {
    "name": "ipython",
    "version": 3
   },
   "file_extension": ".py",
   "mimetype": "text/x-python",
   "name": "python",
   "nbconvert_exporter": "python",
   "pygments_lexer": "ipython3",
   "version": "3.10.5"
  }
 },
 "nbformat": 4,
 "nbformat_minor": 2
}
