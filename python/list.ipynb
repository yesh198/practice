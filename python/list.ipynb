{
 "cells": [
  {
   "cell_type": "markdown",
   "metadata": {},
   "source": []
  },
  {
   "cell_type": "code",
   "execution_count": null,
   "metadata": {},
   "outputs": [],
   "source": [
    "'''\n",
    "Question : 1 \n",
    "Write a function to return sum of elements present inside a list \n",
    "Sample Input : [2,10,16]\n",
    "Output : 28\n",
    "'''"
   ]
  },
  {
   "cell_type": "code",
   "execution_count": null,
   "metadata": {},
   "outputs": [],
   "source": [
    "'''\n",
    "Question : 2\n",
    "Write a function to combine two list \n",
    "Sample Inputs : \n",
    "LIST1 : [2,10,16]\n",
    "LIST2 : [1,7,9]\n",
    "Output : [1,2,7,9,10,16]\n",
    "'''"
   ]
  },
  {
   "cell_type": "code",
   "execution_count": null,
   "metadata": {},
   "outputs": [],
   "source": [
    "'''\n",
    "Question : 3\n",
    "Write a function to return count of each element in another list\n",
    "Sample Inputs : \n",
    "Input : ['hello', 'how' ,'when' ,'while']\n",
    "Output : [5,3,4,5]\n",
    "'''"
   ]
  },
  {
   "cell_type": "code",
   "execution_count": null,
   "metadata": {},
   "outputs": [],
   "source": [
    "'''\n",
    "Question : 4\n",
    "Write a function to return sorted list based on the descending order of the second element present in the sub list\n",
    " and ascending order of first element in the sub list \n",
    "Sample Inputs : \n",
    "Input : [[2,4],[1,5],[2,5],[6,10]]\n",
    "Output : [[6,10],[1,5],[2,5],[2,4]]\n",
    "'''"
   ]
  },
  {
   "cell_type": "code",
   "execution_count": null,
   "metadata": {},
   "outputs": [],
   "source": [
    "'''\n",
    "Question : 5\n",
    "Write a function to delete element from the list if the element are present in other list \n",
    "Sample Inputs : \n",
    "Input1 : [1,2,3,4,5]\n",
    "Input2 : [2,3]\n",
    "Output : [1,4,5]\n",
    "'''"
   ]
  },
  {
   "cell_type": "code",
   "execution_count": null,
   "metadata": {},
   "outputs": [],
   "source": [
    "'''\n",
    "Question : 6\n",
    "Create a new list with the squares of each element in the original list.\n",
    "Input : Take list input from user\n",
    "Output : Square of elements in the list \n",
    "'''\n",
    "\n"
   ]
  },
  {
   "cell_type": "code",
   "execution_count": null,
   "metadata": {},
   "outputs": [],
   "source": [
    "'''\n",
    "Question : 7\n",
    "Create a new list with difference of each element in two lists.\n",
    "Input : Take two lists as input from user\n",
    "Output : Single list containing difference of each element in of both lists\n",
    "Example : \n",
    "list1 = [5,10,15]\n",
    "list2 = [1,2,3]\n",
    "Output : [4,8,12]\n",
    "'''"
   ]
  },
  {
   "cell_type": "code",
   "execution_count": null,
   "metadata": {},
   "outputs": [],
   "source": [
    "'''\n",
    "Question : 8\n",
    "Count the number of odd and even numbers in a list.\n",
    "Input : Take  list as input from user\n",
    "Output : Return odd numbers count and even numbers count\n",
    "'''"
   ]
  },
  {
   "cell_type": "code",
   "execution_count": null,
   "metadata": {},
   "outputs": [],
   "source": [
    "'''\n",
    "Question : 9\n",
    "Convert lists of lists into a single list.\n",
    "Input : [[100, 200],[300, 400],[500, 600],[700, 800]]\n",
    "Output : [100,200,300,400,500,600,700,800]\n",
    "'''"
   ]
  },
  {
   "cell_type": "code",
   "execution_count": null,
   "metadata": {},
   "outputs": [],
   "source": [
    "'''\n",
    "Question : 10\n",
    "Convert lists of lists into a single list.\n",
    "Input : [\" Mike \", \"  \", \" Emma\", \"Kelly \", \" Brad  \"]\n",
    "Output : [\"Mike\",\"\",\"Emma\",\"Kelly\",\"Brad\"]\n",
    "'''\n"
   ]
  }
 ],
 "metadata": {
  "language_info": {
   "name": "python"
  }
 },
 "nbformat": 4,
 "nbformat_minor": 2
}
