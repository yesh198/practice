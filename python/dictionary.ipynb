{
 "cells": [
  {
   "cell_type": "code",
   "execution_count": null,
   "metadata": {},
   "outputs": [],
   "source": [
    "'''\n",
    "Question: 1\n",
    "Convert Names and Age as Key ,Value Pairs of a Dictionary\n",
    "Names : ['Rahul','John','Swathi']\n",
    "Age : [14,25,8]\n",
    "'''"
   ]
  },
  {
   "cell_type": "code",
   "execution_count": null,
   "metadata": {},
   "outputs": [],
   "source": [
    "'''\n",
    "Question: 2\n",
    "Update the value to 'Singapore' if key is Alvin\n",
    "places_dict = {'Swamy':'Rjy', 'Rahul':'Hyd', 'Alvin':'Maly', 'Tom':'America'}\n",
    "'''"
   ]
  },
  {
   "cell_type": "code",
   "execution_count": null,
   "metadata": {},
   "outputs": [],
   "source": [
    "'''\n",
    "Question: 3\n",
    "Access the value of d \n",
    "nested_dict = {\"first\": {\"a\": 1, \"b\": 2}, \"second\": {\"c\": 3, \"d\": 4}}\n",
    "Expected output : 4 \n",
    "'''"
   ]
  },
  {
   "cell_type": "code",
   "execution_count": null,
   "metadata": {},
   "outputs": [],
   "source": [
    "'''\n",
    "Question: 4\n",
    "Create a dictionary where the values are squares of the keys.\n",
    "keys = [5,8,7,9,25]\n",
    "Note : I am not given you the expected output here because you need to understand the terminolgy \n",
    "'''"
   ]
  },
  {
   "cell_type": "code",
   "execution_count": null,
   "metadata": {},
   "outputs": [],
   "source": [
    "'''\n",
    "Question: 5\n",
    "Count the number of occurrences of each character in a string using a dictionary.\n",
    "Example : \n",
    "string = 'level'\n",
    "Output : {'l':2, 'e': 2, 'v':1}\n",
    "'''"
   ]
  },
  {
   "cell_type": "code",
   "execution_count": null,
   "metadata": {},
   "outputs": [],
   "source": [
    "'''\n",
    "Question: 6\n",
    "Write a Python program to concatenate following dictionaries to create a new one.\n",
    "Sample Output\n",
    "Dictionary 1 = {\"Name\" : \"Ram\" , \"Age\" : 23}\n",
    "Dictionary 2 = {\"City\" : \"Salem\", \"Gender\" : \"Male\"}\n",
    "Concatenate Dictionaries = {'Name' : 'Ram', 'Age' : 23, 'City' : 'Salem', 'Gender': 'Male'}\n",
    "'''"
   ]
  },
  {
   "cell_type": "code",
   "execution_count": null,
   "metadata": {},
   "outputs": [],
   "source": [
    "'''\n",
    "Question: 7\n",
    "Sort Dictionary by value descending\n",
    "Sample Output\n",
    "Before Sort = { 'Tamil': 92, 'Math' : 88, 'Science' : 89, 'Social' : 89, 'English' : 56 }\n",
    "After Sort = ('Tamil', 92), ('Science', 89), ('Social', 89), ('Math', 88), ('English', 56)\n",
    "View Solution'''"
   ]
  },
  {
   "cell_type": "code",
   "execution_count": null,
   "metadata": {},
   "outputs": [],
   "source": [
    "'''\n",
    "Question: 8\n",
    "Write a Python program to check whether a given key already exists in a dictionary.\n",
    "Sample Input \n",
    "{'Name' : 'Ram', 'Age' : 23,}\n",
    "Sample Output\n",
    "Key = Name\n",
    "Key is Available in the Dictionary'''"
   ]
  },
  {
   "cell_type": "code",
   "execution_count": null,
   "metadata": {},
   "outputs": [],
   "source": [
    "'''\n",
    "Question: 9\n",
    "Write a Python program to iterate over dictionaries using for loops.\n",
    "Sample input \n",
    "{\"Name\" : \"Ram\" , \"Age\" : 23 , \"City\" : \"Salem\", \"Gender\" : \"Male\"}\n",
    "Sample Output\n",
    "Name : Ram\n",
    "Age : 23\n",
    "City : Salem\n",
    "Gender : Male\n",
    "'''"
   ]
  },
  {
   "cell_type": "code",
   "execution_count": null,
   "metadata": {},
   "outputs": [],
   "source": [
    "'''\n",
    "Question: 10\n",
    "Write a Python program to sum all the items in a dictionary.\n",
    "Sample Output\n",
    "{1 : 23, 2 : 45, 3 : -17, 4 : 87}\n",
    "Sum all the Items = 138\n",
    "'''"
   ]
  },
  {
   "cell_type": "code",
   "execution_count": null,
   "metadata": {},
   "outputs": [],
   "source": [
    "'''\n",
    "Question: 11\n",
    "Write a Python program to Delete a list of keys from a dictionary\n",
    "Sample Output\n",
    "Dictionary = {\"Name\" : \"Tara\", \"RollNo\" : 130046, \"Mark\" : 450, \"Age\" : 16, \"Gender\" : \"Female\", \"City\" : \"Salem\"}\n",
    "Keys to remove From a Dictionary = [\"Gender\", \"City\"]\n",
    "After Delete Dictionary = {'Name' : 'Tara', 'RollNo' : 130046, 'Mark' : 458, 'Age' : 16}\n",
    "'''"
   ]
  },
  {
   "cell_type": "code",
   "execution_count": null,
   "metadata": {},
   "outputs": [],
   "source": [
    "'''\n",
    "Question: 12\n",
    "Create a dictionary where keys are the words in a sentence and values are their lengths.\n",
    "sentence = \"Python is fun and educational\"\n",
    "Output : {'Python': 6, 'is': 2, 'fun': 3, 'and': 3, 'educational': 11}\n",
    "'''"
   ]
  },
  {
   "cell_type": "code",
   "execution_count": null,
   "metadata": {},
   "outputs": [],
   "source": [
    "'''\n",
    "Question: 13\n",
    "Find the top n most frequent elements in a list using a dictionary.\n",
    "lst = [3, 1, 3, 2, 3, 1, 2, 2, 1]\n",
    "n = 2\n",
    "Output : {3: 3, 1: 3}\n",
    "'''"
   ]
  },
  {
   "cell_type": "code",
   "execution_count": null,
   "metadata": {},
   "outputs": [],
   "source": [
    "'''\n",
    "Question: 14\n",
    "Group the elements of a list based on their first character using a dictionary.\n",
    "lst = ['apple', 'banana', 'cherry', 'apricot', 'blueberry']\n",
    "Output : {'a': ['apple', 'apricot'], 'b': ['banana', 'blueberry'], 'c': ['cherry']}\n",
    "'''"
   ]
  },
  {
   "cell_type": "code",
   "execution_count": null,
   "metadata": {},
   "outputs": [],
   "source": [
    "'''\n",
    "Question: 15\n",
    "Invert a dictionary, where the keys become values and the values become keys. If there are duplicate values, group the corresponding keys into a list.\n",
    "dict1 = {'a': 1, 'b': 2, 'c': 1}\n",
    "Output : {1: ['a', 'c'], 2: ['b']}\n",
    "'''"
   ]
  },
  {
   "cell_type": "code",
   "execution_count": null,
   "metadata": {},
   "outputs": [],
   "source": [
    "'''\n",
    "Question: 16\n",
    "Find all keys in a dictionary that have the same value.\n",
    "dict1 = {'apple': 3, 'banana': 1, 'cherry': 2, 'date': 3}\n",
    "Output : {3: ['apple', 'date']}\n",
    "'''"
   ]
  },
  {
   "cell_type": "code",
   "execution_count": null,
   "metadata": {},
   "outputs": [],
   "source": [
    "'''\n",
    "Question: 17\n",
    "Create a nested dictionary where the outer keys are the unique letters in a list of words, and the inner dictionary contains the word as the key and its length as the value.\n",
    "words = ['apple', 'banana', 'cherry']\n",
    "Output : {'a': {'apple': 5, 'banana': 6}, 'b': {'banana': 6}, 'c': {'cherry': 6}}\n",
    "'''"
   ]
  },
  {
   "cell_type": "code",
   "execution_count": null,
   "metadata": {},
   "outputs": [],
   "source": [
    "'''\n",
    "Question: 18'''"
   ]
  }
 ],
 "metadata": {
  "language_info": {
   "name": "python"
  }
 },
 "nbformat": 4,
 "nbformat_minor": 2
}
